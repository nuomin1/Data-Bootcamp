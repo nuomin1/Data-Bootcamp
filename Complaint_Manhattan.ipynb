{
 "cells": [
  {
   "cell_type": "code",
   "execution_count": 100,
   "metadata": {},
   "outputs": [],
   "source": [
    "import pandas as pd\n",
    "import matplotlib.pyplot as plt "
   ]
  },
  {
   "cell_type": "code",
   "execution_count": 101,
   "metadata": {},
   "outputs": [],
   "source": [
    "manhattan = pd.read_csv('/Users/nuomin/Desktop/NYPD_Complaint_Manhattan.csv')"
   ]
  },
  {
   "cell_type": "code",
   "execution_count": 102,
   "metadata": {},
   "outputs": [
    {
     "data": {
      "text/html": [
       "<div>\n",
       "<style scoped>\n",
       "    .dataframe tbody tr th:only-of-type {\n",
       "        vertical-align: middle;\n",
       "    }\n",
       "\n",
       "    .dataframe tbody tr th {\n",
       "        vertical-align: top;\n",
       "    }\n",
       "\n",
       "    .dataframe thead th {\n",
       "        text-align: right;\n",
       "    }\n",
       "</style>\n",
       "<table border=\"1\" class=\"dataframe\">\n",
       "  <thead>\n",
       "    <tr style=\"text-align: right;\">\n",
       "      <th></th>\n",
       "      <th>CMPLNT_NUM</th>\n",
       "      <th>CMPLNT_FR_DT</th>\n",
       "      <th>ADDR_PCT_CD</th>\n",
       "      <th>RPT_DT</th>\n",
       "      <th>KY_CD</th>\n",
       "      <th>OFNS_DESC</th>\n",
       "      <th>PD_CD</th>\n",
       "      <th>PD_DESC</th>\n",
       "      <th>CRM_ATPT_CPTD_CD</th>\n",
       "      <th>LAW_CAT_CD</th>\n",
       "      <th>...</th>\n",
       "      <th>SUSP_AGE_GROUP</th>\n",
       "      <th>SUSP_RACE</th>\n",
       "      <th>Latitude</th>\n",
       "      <th>Longitude</th>\n",
       "      <th>Lat_Lon</th>\n",
       "      <th>PATROL_BORO</th>\n",
       "      <th>STATION_NAME</th>\n",
       "      <th>VIC_AGE_GROUP</th>\n",
       "      <th>VIC_RACE</th>\n",
       "      <th>VIC_SEX</th>\n",
       "    </tr>\n",
       "  </thead>\n",
       "  <tbody>\n",
       "    <tr>\n",
       "      <th>0</th>\n",
       "      <td>823404713</td>\n",
       "      <td>8/31/13</td>\n",
       "      <td>10.0</td>\n",
       "      <td>9/3/13</td>\n",
       "      <td>361</td>\n",
       "      <td>OFF. AGNST PUB ORD SENSBLTY &amp;</td>\n",
       "      <td>639</td>\n",
       "      <td>AGGRAVATED HARASSMENT 2</td>\n",
       "      <td>COMPLETED</td>\n",
       "      <td>MISDEMEANOR</td>\n",
       "      <td>...</td>\n",
       "      <td>NaN</td>\n",
       "      <td>UNKNOWN</td>\n",
       "      <td>40.747810</td>\n",
       "      <td>-73.998518</td>\n",
       "      <td>(40.747810021, -73.998518132)</td>\n",
       "      <td>PATROL BORO MAN SOUTH</td>\n",
       "      <td>NaN</td>\n",
       "      <td>18-24</td>\n",
       "      <td>WHITE HISPANIC</td>\n",
       "      <td>F</td>\n",
       "    </tr>\n",
       "    <tr>\n",
       "      <th>1</th>\n",
       "      <td>980715415</td>\n",
       "      <td>8/31/13</td>\n",
       "      <td>13.0</td>\n",
       "      <td>9/3/13</td>\n",
       "      <td>107</td>\n",
       "      <td>BURGLARY</td>\n",
       "      <td>214</td>\n",
       "      <td>BURGLARY,COMMERCIAL,UNKNOWN TI</td>\n",
       "      <td>COMPLETED</td>\n",
       "      <td>FELONY</td>\n",
       "      <td>...</td>\n",
       "      <td>NaN</td>\n",
       "      <td>NaN</td>\n",
       "      <td>40.738834</td>\n",
       "      <td>-73.989861</td>\n",
       "      <td>(40.738834251, -73.98986141)</td>\n",
       "      <td>PATROL BORO MAN SOUTH</td>\n",
       "      <td>NaN</td>\n",
       "      <td>NaN</td>\n",
       "      <td>UNKNOWN</td>\n",
       "      <td>D</td>\n",
       "    </tr>\n",
       "    <tr>\n",
       "      <th>2</th>\n",
       "      <td>928931405</td>\n",
       "      <td>8/31/13</td>\n",
       "      <td>25.0</td>\n",
       "      <td>9/3/13</td>\n",
       "      <td>109</td>\n",
       "      <td>GRAND LARCENY</td>\n",
       "      <td>419</td>\n",
       "      <td>LARCENY,GRAND FROM PERSON,UNCL</td>\n",
       "      <td>COMPLETED</td>\n",
       "      <td>FELONY</td>\n",
       "      <td>...</td>\n",
       "      <td>NaN</td>\n",
       "      <td>NaN</td>\n",
       "      <td>40.787875</td>\n",
       "      <td>-73.928182</td>\n",
       "      <td>(40.787874599, -73.928181646)</td>\n",
       "      <td>PATROL BORO MAN NORTH</td>\n",
       "      <td>NaN</td>\n",
       "      <td>25-44</td>\n",
       "      <td>WHITE</td>\n",
       "      <td>F</td>\n",
       "    </tr>\n",
       "    <tr>\n",
       "      <th>3</th>\n",
       "      <td>641526256</td>\n",
       "      <td>8/31/13</td>\n",
       "      <td>33.0</td>\n",
       "      <td>9/3/13</td>\n",
       "      <td>109</td>\n",
       "      <td>GRAND LARCENY</td>\n",
       "      <td>438</td>\n",
       "      <td>LARCENY,GRAND FROM BUILDING (NON-RESIDENCE) UN...</td>\n",
       "      <td>COMPLETED</td>\n",
       "      <td>FELONY</td>\n",
       "      <td>...</td>\n",
       "      <td>NaN</td>\n",
       "      <td>NaN</td>\n",
       "      <td>40.835060</td>\n",
       "      <td>-73.939818</td>\n",
       "      <td>(40.835060305, -73.939817659)</td>\n",
       "      <td>PATROL BORO MAN NORTH</td>\n",
       "      <td>NaN</td>\n",
       "      <td>NaN</td>\n",
       "      <td>UNKNOWN</td>\n",
       "      <td>D</td>\n",
       "    </tr>\n",
       "    <tr>\n",
       "      <th>4</th>\n",
       "      <td>864576438</td>\n",
       "      <td>8/31/13</td>\n",
       "      <td>5.0</td>\n",
       "      <td>9/3/13</td>\n",
       "      <td>351</td>\n",
       "      <td>CRIMINAL MISCHIEF &amp; RELATED OF</td>\n",
       "      <td>259</td>\n",
       "      <td>CRIMINAL MISCHIEF,UNCLASSIFIED 4</td>\n",
       "      <td>COMPLETED</td>\n",
       "      <td>MISDEMEANOR</td>\n",
       "      <td>...</td>\n",
       "      <td>NaN</td>\n",
       "      <td>NaN</td>\n",
       "      <td>40.717332</td>\n",
       "      <td>-73.998952</td>\n",
       "      <td>(40.717332268, -73.998951696)</td>\n",
       "      <td>PATROL BORO MAN SOUTH</td>\n",
       "      <td>NaN</td>\n",
       "      <td>NaN</td>\n",
       "      <td>UNKNOWN</td>\n",
       "      <td>D</td>\n",
       "    </tr>\n",
       "  </tbody>\n",
       "</table>\n",
       "<p>5 rows × 26 columns</p>\n",
       "</div>"
      ],
      "text/plain": [
       "   CMPLNT_NUM CMPLNT_FR_DT  ADDR_PCT_CD  RPT_DT  KY_CD  \\\n",
       "0   823404713      8/31/13         10.0  9/3/13    361   \n",
       "1   980715415      8/31/13         13.0  9/3/13    107   \n",
       "2   928931405      8/31/13         25.0  9/3/13    109   \n",
       "3   641526256      8/31/13         33.0  9/3/13    109   \n",
       "4   864576438      8/31/13          5.0  9/3/13    351   \n",
       "\n",
       "                        OFNS_DESC  PD_CD  \\\n",
       "0   OFF. AGNST PUB ORD SENSBLTY &    639   \n",
       "1                        BURGLARY    214   \n",
       "2                   GRAND LARCENY    419   \n",
       "3                   GRAND LARCENY    438   \n",
       "4  CRIMINAL MISCHIEF & RELATED OF    259   \n",
       "\n",
       "                                             PD_DESC CRM_ATPT_CPTD_CD  \\\n",
       "0                            AGGRAVATED HARASSMENT 2        COMPLETED   \n",
       "1                     BURGLARY,COMMERCIAL,UNKNOWN TI        COMPLETED   \n",
       "2                     LARCENY,GRAND FROM PERSON,UNCL        COMPLETED   \n",
       "3  LARCENY,GRAND FROM BUILDING (NON-RESIDENCE) UN...        COMPLETED   \n",
       "4                   CRIMINAL MISCHIEF,UNCLASSIFIED 4        COMPLETED   \n",
       "\n",
       "    LAW_CAT_CD   ...    SUSP_AGE_GROUP SUSP_RACE   Latitude  Longitude  \\\n",
       "0  MISDEMEANOR   ...               NaN   UNKNOWN  40.747810 -73.998518   \n",
       "1       FELONY   ...               NaN       NaN  40.738834 -73.989861   \n",
       "2       FELONY   ...               NaN       NaN  40.787875 -73.928182   \n",
       "3       FELONY   ...               NaN       NaN  40.835060 -73.939818   \n",
       "4  MISDEMEANOR   ...               NaN       NaN  40.717332 -73.998952   \n",
       "\n",
       "                         Lat_Lon            PATROL_BORO STATION_NAME  \\\n",
       "0  (40.747810021, -73.998518132)  PATROL BORO MAN SOUTH          NaN   \n",
       "1   (40.738834251, -73.98986141)  PATROL BORO MAN SOUTH          NaN   \n",
       "2  (40.787874599, -73.928181646)  PATROL BORO MAN NORTH          NaN   \n",
       "3  (40.835060305, -73.939817659)  PATROL BORO MAN NORTH          NaN   \n",
       "4  (40.717332268, -73.998951696)  PATROL BORO MAN SOUTH          NaN   \n",
       "\n",
       "  VIC_AGE_GROUP        VIC_RACE  VIC_SEX  \n",
       "0         18-24  WHITE HISPANIC        F  \n",
       "1           NaN         UNKNOWN        D  \n",
       "2         25-44           WHITE        F  \n",
       "3           NaN         UNKNOWN        D  \n",
       "4           NaN         UNKNOWN        D  \n",
       "\n",
       "[5 rows x 26 columns]"
      ]
     },
     "execution_count": 102,
     "metadata": {},
     "output_type": "execute_result"
    }
   ],
   "source": [
    "manhattan.head()"
   ]
  },
  {
   "cell_type": "code",
   "execution_count": 103,
   "metadata": {},
   "outputs": [
    {
     "data": {
      "text/plain": [
       "(1048575, 26)"
      ]
     },
     "execution_count": 103,
     "metadata": {},
     "output_type": "execute_result"
    }
   ],
   "source": [
    "manhattan.shape"
   ]
  },
  {
   "cell_type": "code",
   "execution_count": 104,
   "metadata": {},
   "outputs": [],
   "source": [
    "crimetype = manhattan[['CMPLNT_FR_DT','LAW_CAT_CD']]"
   ]
  },
  {
   "cell_type": "code",
   "execution_count": 105,
   "metadata": {},
   "outputs": [
    {
     "data": {
      "text/html": [
       "<div>\n",
       "<style scoped>\n",
       "    .dataframe tbody tr th:only-of-type {\n",
       "        vertical-align: middle;\n",
       "    }\n",
       "\n",
       "    .dataframe tbody tr th {\n",
       "        vertical-align: top;\n",
       "    }\n",
       "\n",
       "    .dataframe thead th {\n",
       "        text-align: right;\n",
       "    }\n",
       "</style>\n",
       "<table border=\"1\" class=\"dataframe\">\n",
       "  <thead>\n",
       "    <tr style=\"text-align: right;\">\n",
       "      <th></th>\n",
       "      <th>Date</th>\n",
       "      <th>Crime Type</th>\n",
       "    </tr>\n",
       "  </thead>\n",
       "  <tbody>\n",
       "    <tr>\n",
       "      <th>0</th>\n",
       "      <td>8/31/13</td>\n",
       "      <td>MISDEMEANOR</td>\n",
       "    </tr>\n",
       "    <tr>\n",
       "      <th>1</th>\n",
       "      <td>8/31/13</td>\n",
       "      <td>FELONY</td>\n",
       "    </tr>\n",
       "    <tr>\n",
       "      <th>2</th>\n",
       "      <td>8/31/13</td>\n",
       "      <td>FELONY</td>\n",
       "    </tr>\n",
       "    <tr>\n",
       "      <th>3</th>\n",
       "      <td>8/31/13</td>\n",
       "      <td>FELONY</td>\n",
       "    </tr>\n",
       "    <tr>\n",
       "      <th>4</th>\n",
       "      <td>8/31/13</td>\n",
       "      <td>MISDEMEANOR</td>\n",
       "    </tr>\n",
       "  </tbody>\n",
       "</table>\n",
       "</div>"
      ],
      "text/plain": [
       "      Date   Crime Type\n",
       "0  8/31/13  MISDEMEANOR\n",
       "1  8/31/13       FELONY\n",
       "2  8/31/13       FELONY\n",
       "3  8/31/13       FELONY\n",
       "4  8/31/13  MISDEMEANOR"
      ]
     },
     "execution_count": 105,
     "metadata": {},
     "output_type": "execute_result"
    }
   ],
   "source": [
    "crimetype.columns= ['Date','Crime Type']\n",
    "crimetype.head()"
   ]
  },
  {
   "cell_type": "code",
   "execution_count": 106,
   "metadata": {},
   "outputs": [
    {
     "data": {
      "text/plain": [
       "MISDEMEANOR    598552\n",
       "FELONY         337462\n",
       "VIOLATION      112561\n",
       "Name: Crime Type, dtype: int64"
      ]
     },
     "execution_count": 106,
     "metadata": {},
     "output_type": "execute_result"
    }
   ],
   "source": [
    "crimetype['Crime Type'].value_counts()"
   ]
  },
  {
   "cell_type": "code",
   "execution_count": 107,
   "metadata": {},
   "outputs": [
    {
     "data": {
      "text/plain": [
       "Text(0.5,1,'Distribution of Reported Crime in Manhattan')"
      ]
     },
     "execution_count": 107,
     "metadata": {},
     "output_type": "execute_result"
    },
    {
     "data": {
      "image/png": "[encoded data removed]",
      "text/plain": [
       "<Figure size 432x288 with 1 Axes>"
      ]
     },
     "metadata": {},
     "output_type": "display_data"
    }
   ],
   "source": [
    "fig,ax0=plt.subplots()\n",
    "plt.rc('axes',titlesize=15,)\n",
    "crimetype['Crime Type'].value_counts().plot(ax=ax0,kind='pie',shadow= True,startangle=90)\n",
    "ax0.axis('equal')\n",
    "ax0.set_title('Distribution of Reported Crime in Manhattan')"
   ]
  },
  {
   "cell_type": "code",
   "execution_count": 36,
   "metadata": {},
   "outputs": [
    {
     "name": "stderr",
     "output_type": "stream",
     "text": [
      "/Users/nuomin/anaconda3/lib/python3.6/site-packages/IPython/core/interactiveshell.py:2785: DtypeWarning: Columns (18) have mixed types. Specify dtype option on import or set low_memory=False.\n",
      "  interactivity=interactivity, compiler=compiler, result=result)\n"
     ]
    }
   ],
   "source": [
    "brooklyn = pd.read_csv('/Users/nuomin/Desktop/NYPD_Complaint_Brooklyn.csv')"
   ]
  },
  {
   "cell_type": "code",
   "execution_count": 37,
   "metadata": {},
   "outputs": [
    {
     "data": {
      "text/html": [
       "<div>\n",
       "<style scoped>\n",
       "    .dataframe tbody tr th:only-of-type {\n",
       "        vertical-align: middle;\n",
       "    }\n",
       "\n",
       "    .dataframe tbody tr th {\n",
       "        vertical-align: top;\n",
       "    }\n",
       "\n",
       "    .dataframe thead th {\n",
       "        text-align: right;\n",
       "    }\n",
       "</style>\n",
       "<table border=\"1\" class=\"dataframe\">\n",
       "  <thead>\n",
       "    <tr style=\"text-align: right;\">\n",
       "      <th></th>\n",
       "      <th>CMPLNT_NUM</th>\n",
       "      <th>CMPLNT_FR_DT</th>\n",
       "      <th>CMPLNT_FR_TM</th>\n",
       "      <th>CMPLNT_TO_DT</th>\n",
       "      <th>CMPLNT_TO_TM</th>\n",
       "      <th>ADDR_PCT_CD</th>\n",
       "      <th>RPT_DT</th>\n",
       "      <th>KY_CD</th>\n",
       "      <th>OFNS_DESC</th>\n",
       "      <th>PD_CD</th>\n",
       "      <th>...</th>\n",
       "      <th>SUSP_SEX</th>\n",
       "      <th>TRANSIT_DISTRICT</th>\n",
       "      <th>Latitude</th>\n",
       "      <th>Longitude</th>\n",
       "      <th>Lat_Lon</th>\n",
       "      <th>PATROL_BORO</th>\n",
       "      <th>STATION_NAME</th>\n",
       "      <th>VIC_AGE_GROUP</th>\n",
       "      <th>VIC_RACE</th>\n",
       "      <th>VIC_SEX</th>\n",
       "    </tr>\n",
       "  </thead>\n",
       "  <tbody>\n",
       "    <tr>\n",
       "      <th>0</th>\n",
       "      <td>491097831</td>\n",
       "      <td>08/31/2013</td>\n",
       "      <td>20:00:00</td>\n",
       "      <td>09/02/2013</td>\n",
       "      <td>13:10:00</td>\n",
       "      <td>76.0</td>\n",
       "      <td>09/03/2013</td>\n",
       "      <td>578</td>\n",
       "      <td>HARRASSMENT 2</td>\n",
       "      <td>638</td>\n",
       "      <td>...</td>\n",
       "      <td>F</td>\n",
       "      <td>NaN</td>\n",
       "      <td>40.684084</td>\n",
       "      <td>-73.986780</td>\n",
       "      <td>(40.684084156, -73.98677974)</td>\n",
       "      <td>PATROL BORO BKLYN SOUTH</td>\n",
       "      <td>NaN</td>\n",
       "      <td>NaN</td>\n",
       "      <td>UNKNOWN</td>\n",
       "      <td>F</td>\n",
       "    </tr>\n",
       "    <tr>\n",
       "      <th>1</th>\n",
       "      <td>655454255</td>\n",
       "      <td>08/31/2013</td>\n",
       "      <td>19:00:00</td>\n",
       "      <td>09/03/2013</td>\n",
       "      <td>11:00:00</td>\n",
       "      <td>71.0</td>\n",
       "      <td>09/03/2013</td>\n",
       "      <td>107</td>\n",
       "      <td>BURGLARY</td>\n",
       "      <td>234</td>\n",
       "      <td>...</td>\n",
       "      <td>NaN</td>\n",
       "      <td>NaN</td>\n",
       "      <td>40.666588</td>\n",
       "      <td>-73.939678</td>\n",
       "      <td>(40.666587627, -73.939677686)</td>\n",
       "      <td>PATROL BORO BKLYN SOUTH</td>\n",
       "      <td>NaN</td>\n",
       "      <td>25-44</td>\n",
       "      <td>BLACK</td>\n",
       "      <td>M</td>\n",
       "    </tr>\n",
       "    <tr>\n",
       "      <th>2</th>\n",
       "      <td>777845621</td>\n",
       "      <td>08/31/2013</td>\n",
       "      <td>18:00:00</td>\n",
       "      <td>09/03/2013</td>\n",
       "      <td>14:30:00</td>\n",
       "      <td>81.0</td>\n",
       "      <td>09/03/2013</td>\n",
       "      <td>341</td>\n",
       "      <td>PETIT LARCENY</td>\n",
       "      <td>338</td>\n",
       "      <td>...</td>\n",
       "      <td>NaN</td>\n",
       "      <td>NaN</td>\n",
       "      <td>40.686719</td>\n",
       "      <td>-73.923470</td>\n",
       "      <td>(40.686719153, -73.923469723)</td>\n",
       "      <td>PATROL BORO BKLYN NORTH</td>\n",
       "      <td>NaN</td>\n",
       "      <td>25-44</td>\n",
       "      <td>BLACK</td>\n",
       "      <td>M</td>\n",
       "    </tr>\n",
       "    <tr>\n",
       "      <th>3</th>\n",
       "      <td>301678035</td>\n",
       "      <td>08/31/2013</td>\n",
       "      <td>15:30:00</td>\n",
       "      <td>09/03/2013</td>\n",
       "      <td>09:45:00</td>\n",
       "      <td>73.0</td>\n",
       "      <td>09/03/2013</td>\n",
       "      <td>110</td>\n",
       "      <td>GRAND LARCENY OF MOTOR VEHICLE</td>\n",
       "      <td>455</td>\n",
       "      <td>...</td>\n",
       "      <td>M</td>\n",
       "      <td>NaN</td>\n",
       "      <td>40.656003</td>\n",
       "      <td>-73.909179</td>\n",
       "      <td>(40.656002929, -73.909178756)</td>\n",
       "      <td>PATROL BORO BKLYN NORTH</td>\n",
       "      <td>NaN</td>\n",
       "      <td>NaN</td>\n",
       "      <td>UNKNOWN</td>\n",
       "      <td>D</td>\n",
       "    </tr>\n",
       "    <tr>\n",
       "      <th>4</th>\n",
       "      <td>557653513</td>\n",
       "      <td>08/31/2013</td>\n",
       "      <td>15:30:00</td>\n",
       "      <td>09/03/2013</td>\n",
       "      <td>12:30:00</td>\n",
       "      <td>75.0</td>\n",
       "      <td>09/03/2013</td>\n",
       "      <td>107</td>\n",
       "      <td>BURGLARY</td>\n",
       "      <td>224</td>\n",
       "      <td>...</td>\n",
       "      <td>NaN</td>\n",
       "      <td>NaN</td>\n",
       "      <td>40.671237</td>\n",
       "      <td>-73.877222</td>\n",
       "      <td>(40.67123699, -73.877222202)</td>\n",
       "      <td>PATROL BORO BKLYN NORTH</td>\n",
       "      <td>NaN</td>\n",
       "      <td>25-44</td>\n",
       "      <td>BLACK</td>\n",
       "      <td>F</td>\n",
       "    </tr>\n",
       "  </tbody>\n",
       "</table>\n",
       "<p>5 rows × 35 columns</p>\n",
       "</div>"
      ],
      "text/plain": [
       "   CMPLNT_NUM CMPLNT_FR_DT CMPLNT_FR_TM CMPLNT_TO_DT CMPLNT_TO_TM  \\\n",
       "0   491097831   08/31/2013     20:00:00   09/02/2013     13:10:00   \n",
       "1   655454255   08/31/2013     19:00:00   09/03/2013     11:00:00   \n",
       "2   777845621   08/31/2013     18:00:00   09/03/2013     14:30:00   \n",
       "3   301678035   08/31/2013     15:30:00   09/03/2013     09:45:00   \n",
       "4   557653513   08/31/2013     15:30:00   09/03/2013     12:30:00   \n",
       "\n",
       "   ADDR_PCT_CD      RPT_DT  KY_CD                       OFNS_DESC  PD_CD  \\\n",
       "0         76.0  09/03/2013    578                   HARRASSMENT 2    638   \n",
       "1         71.0  09/03/2013    107                        BURGLARY    234   \n",
       "2         81.0  09/03/2013    341                   PETIT LARCENY    338   \n",
       "3         73.0  09/03/2013    110  GRAND LARCENY OF MOTOR VEHICLE    455   \n",
       "4         75.0  09/03/2013    107                        BURGLARY    224   \n",
       "\n",
       "    ...   SUSP_SEX TRANSIT_DISTRICT   Latitude  Longitude  \\\n",
       "0   ...          F              NaN  40.684084 -73.986780   \n",
       "1   ...        NaN              NaN  40.666588 -73.939678   \n",
       "2   ...        NaN              NaN  40.686719 -73.923470   \n",
       "3   ...          M              NaN  40.656003 -73.909179   \n",
       "4   ...        NaN              NaN  40.671237 -73.877222   \n",
       "\n",
       "                         Lat_Lon              PATROL_BORO STATION_NAME  \\\n",
       "0   (40.684084156, -73.98677974)  PATROL BORO BKLYN SOUTH          NaN   \n",
       "1  (40.666587627, -73.939677686)  PATROL BORO BKLYN SOUTH          NaN   \n",
       "2  (40.686719153, -73.923469723)  PATROL BORO BKLYN NORTH          NaN   \n",
       "3  (40.656002929, -73.909178756)  PATROL BORO BKLYN NORTH          NaN   \n",
       "4   (40.67123699, -73.877222202)  PATROL BORO BKLYN NORTH          NaN   \n",
       "\n",
       "   VIC_AGE_GROUP VIC_RACE VIC_SEX  \n",
       "0            NaN  UNKNOWN       F  \n",
       "1          25-44    BLACK       M  \n",
       "2          25-44    BLACK       M  \n",
       "3            NaN  UNKNOWN       D  \n",
       "4          25-44    BLACK       F  \n",
       "\n",
       "[5 rows x 35 columns]"
      ]
     },
     "execution_count": 37,
     "metadata": {},
     "output_type": "execute_result"
    }
   ],
   "source": [
    "brooklyn.head()"
   ]
  },
  {
   "cell_type": "code",
   "execution_count": 39,
   "metadata": {},
   "outputs": [
    {
     "data": {
      "text/plain": [
       "(1798175, 35)"
      ]
     },
     "execution_count": 39,
     "metadata": {},
     "output_type": "execute_result"
    }
   ],
   "source": [
    "brooklyn.shape"
   ]
  },
  {
   "cell_type": "code",
   "execution_count": 41,
   "metadata": {},
   "outputs": [],
   "source": [
    "crimetype2 = brooklyn[['CMPLNT_FR_DT','LAW_CAT_CD']]"
   ]
  },
  {
   "cell_type": "code",
   "execution_count": 42,
   "metadata": {},
   "outputs": [
    {
     "data": {
      "text/html": [
       "<div>\n",
       "<style scoped>\n",
       "    .dataframe tbody tr th:only-of-type {\n",
       "        vertical-align: middle;\n",
       "    }\n",
       "\n",
       "    .dataframe tbody tr th {\n",
       "        vertical-align: top;\n",
       "    }\n",
       "\n",
       "    .dataframe thead th {\n",
       "        text-align: right;\n",
       "    }\n",
       "</style>\n",
       "<table border=\"1\" class=\"dataframe\">\n",
       "  <thead>\n",
       "    <tr style=\"text-align: right;\">\n",
       "      <th></th>\n",
       "      <th>Date</th>\n",
       "      <th>Crime Type</th>\n",
       "    </tr>\n",
       "  </thead>\n",
       "  <tbody>\n",
       "    <tr>\n",
       "      <th>0</th>\n",
       "      <td>08/31/2013</td>\n",
       "      <td>VIOLATION</td>\n",
       "    </tr>\n",
       "    <tr>\n",
       "      <th>1</th>\n",
       "      <td>08/31/2013</td>\n",
       "      <td>FELONY</td>\n",
       "    </tr>\n",
       "    <tr>\n",
       "      <th>2</th>\n",
       "      <td>08/31/2013</td>\n",
       "      <td>MISDEMEANOR</td>\n",
       "    </tr>\n",
       "    <tr>\n",
       "      <th>3</th>\n",
       "      <td>08/31/2013</td>\n",
       "      <td>FELONY</td>\n",
       "    </tr>\n",
       "    <tr>\n",
       "      <th>4</th>\n",
       "      <td>08/31/2013</td>\n",
       "      <td>FELONY</td>\n",
       "    </tr>\n",
       "  </tbody>\n",
       "</table>\n",
       "</div>"
      ],
      "text/plain": [
       "         Date   Crime Type\n",
       "0  08/31/2013    VIOLATION\n",
       "1  08/31/2013       FELONY\n",
       "2  08/31/2013  MISDEMEANOR\n",
       "3  08/31/2013       FELONY\n",
       "4  08/31/2013       FELONY"
      ]
     },
     "execution_count": 42,
     "metadata": {},
     "output_type": "execute_result"
    }
   ],
   "source": [
    "crimetype2.columns= ['Date','Crime Type']\n",
    "crimetype2.head()"
   ]
  },
  {
   "cell_type": "code",
   "execution_count": 43,
   "metadata": {},
   "outputs": [
    {
     "data": {
      "text/plain": [
       "MISDEMEANOR    990252\n",
       "FELONY         582535\n",
       "VIOLATION      225388\n",
       "Name: Crime Type, dtype: int64"
      ]
     },
     "execution_count": 43,
     "metadata": {},
     "output_type": "execute_result"
    }
   ],
   "source": [
    "crimetype2['Crime Type'].value_counts()"
   ]
  },
  {
   "cell_type": "code",
   "execution_count": 44,
   "metadata": {},
   "outputs": [
    {
     "data": {
      "text/plain": [
       "Text(0.5,1,'Distribution of Reported Crime in Brooklyn')"
      ]
     },
     "execution_count": 44,
     "metadata": {},
     "output_type": "execute_result"
    },
    {
     "data": {
      "image/png": "[encoded data removed]",
      "text/plain": [
       "<Figure size 432x288 with 1 Axes>"
      ]
     },
     "metadata": {},
     "output_type": "display_data"
    }
   ],
   "source": [
    "fig,ax0=plt.subplots()\n",
    "plt.rc('axes',titlesize=15)\n",
    "crimetype2['Crime Type'].value_counts().plot(ax=ax0,kind='barh')\n",
    "ax0.set_title('Distribution of Reported Crime in Brooklyn')"
   ]
  },
  {
   "cell_type": "code",
   "execution_count": 45,
   "metadata": {},
   "outputs": [
    {
     "name": "stderr",
     "output_type": "stream",
     "text": [
      "/Users/nuomin/anaconda3/lib/python3.6/site-packages/IPython/core/interactiveshell.py:2785: DtypeWarning: Columns (18) have mixed types. Specify dtype option on import or set low_memory=False.\n",
      "  interactivity=interactivity, compiler=compiler, result=result)\n"
     ]
    }
   ],
   "source": [
    "queens = pd.read_csv('/Users/nuomin/Desktop/NYPD_Complaint_Queens.csv')"
   ]
  },
  {
   "cell_type": "code",
   "execution_count": 49,
   "metadata": {},
   "outputs": [
    {
     "data": {
      "text/html": [
       "<div>\n",
       "<style scoped>\n",
       "    .dataframe tbody tr th:only-of-type {\n",
       "        vertical-align: middle;\n",
       "    }\n",
       "\n",
       "    .dataframe tbody tr th {\n",
       "        vertical-align: top;\n",
       "    }\n",
       "\n",
       "    .dataframe thead th {\n",
       "        text-align: right;\n",
       "    }\n",
       "</style>\n",
       "<table border=\"1\" class=\"dataframe\">\n",
       "  <thead>\n",
       "    <tr style=\"text-align: right;\">\n",
       "      <th></th>\n",
       "      <th>CMPLNT_NUM</th>\n",
       "      <th>CMPLNT_FR_DT</th>\n",
       "      <th>CMPLNT_FR_TM</th>\n",
       "      <th>CMPLNT_TO_DT</th>\n",
       "      <th>CMPLNT_TO_TM</th>\n",
       "      <th>ADDR_PCT_CD</th>\n",
       "      <th>RPT_DT</th>\n",
       "      <th>KY_CD</th>\n",
       "      <th>OFNS_DESC</th>\n",
       "      <th>PD_CD</th>\n",
       "      <th>...</th>\n",
       "      <th>SUSP_SEX</th>\n",
       "      <th>TRANSIT_DISTRICT</th>\n",
       "      <th>Latitude</th>\n",
       "      <th>Longitude</th>\n",
       "      <th>Lat_Lon</th>\n",
       "      <th>PATROL_BORO</th>\n",
       "      <th>STATION_NAME</th>\n",
       "      <th>VIC_AGE_GROUP</th>\n",
       "      <th>VIC_RACE</th>\n",
       "      <th>VIC_SEX</th>\n",
       "    </tr>\n",
       "  </thead>\n",
       "  <tbody>\n",
       "    <tr>\n",
       "      <th>0</th>\n",
       "      <td>950495742</td>\n",
       "      <td>8/31/13</td>\n",
       "      <td>19:00:00</td>\n",
       "      <td>9/2/13</td>\n",
       "      <td>9:00:00</td>\n",
       "      <td>106.0</td>\n",
       "      <td>9/3/13</td>\n",
       "      <td>110</td>\n",
       "      <td>GRAND LARCENY OF MOTOR VEHICLE</td>\n",
       "      <td>441</td>\n",
       "      <td>...</td>\n",
       "      <td>NaN</td>\n",
       "      <td>NaN</td>\n",
       "      <td>40.662512</td>\n",
       "      <td>-73.856311</td>\n",
       "      <td>(40.662511814, -73.85631094)</td>\n",
       "      <td>PATROL BORO QUEENS SOUTH</td>\n",
       "      <td>NaN</td>\n",
       "      <td>45-64</td>\n",
       "      <td>WHITE HISPANIC</td>\n",
       "      <td>F</td>\n",
       "    </tr>\n",
       "    <tr>\n",
       "      <th>1</th>\n",
       "      <td>710053577</td>\n",
       "      <td>8/31/13</td>\n",
       "      <td>17:00:00</td>\n",
       "      <td>9/3/13</td>\n",
       "      <td>8:30:00</td>\n",
       "      <td>108.0</td>\n",
       "      <td>9/3/13</td>\n",
       "      <td>351</td>\n",
       "      <td>CRIMINAL MISCHIEF &amp; RELATED OF</td>\n",
       "      <td>258</td>\n",
       "      <td>...</td>\n",
       "      <td>U</td>\n",
       "      <td>NaN</td>\n",
       "      <td>40.746308</td>\n",
       "      <td>-73.915696</td>\n",
       "      <td>(40.746307995, -73.915696141)</td>\n",
       "      <td>PATROL BORO QUEENS NORTH</td>\n",
       "      <td>NaN</td>\n",
       "      <td>65+</td>\n",
       "      <td>WHITE</td>\n",
       "      <td>M</td>\n",
       "    </tr>\n",
       "    <tr>\n",
       "      <th>2</th>\n",
       "      <td>160768278</td>\n",
       "      <td>8/31/13</td>\n",
       "      <td>14:00:00</td>\n",
       "      <td>NaN</td>\n",
       "      <td>NaN</td>\n",
       "      <td>105.0</td>\n",
       "      <td>9/3/13</td>\n",
       "      <td>578</td>\n",
       "      <td>HARRASSMENT 2</td>\n",
       "      <td>637</td>\n",
       "      <td>...</td>\n",
       "      <td>F</td>\n",
       "      <td>NaN</td>\n",
       "      <td>40.700129</td>\n",
       "      <td>-73.741587</td>\n",
       "      <td>(40.700128956, -73.741587414)</td>\n",
       "      <td>PATROL BORO QUEENS SOUTH</td>\n",
       "      <td>NaN</td>\n",
       "      <td>25-44</td>\n",
       "      <td>BLACK</td>\n",
       "      <td>F</td>\n",
       "    </tr>\n",
       "    <tr>\n",
       "      <th>3</th>\n",
       "      <td>569477055</td>\n",
       "      <td>8/31/13</td>\n",
       "      <td>11:00:00</td>\n",
       "      <td>NaN</td>\n",
       "      <td>NaN</td>\n",
       "      <td>109.0</td>\n",
       "      <td>9/3/13</td>\n",
       "      <td>341</td>\n",
       "      <td>PETIT LARCENY</td>\n",
       "      <td>338</td>\n",
       "      <td>...</td>\n",
       "      <td>F</td>\n",
       "      <td>NaN</td>\n",
       "      <td>40.757379</td>\n",
       "      <td>-73.834019</td>\n",
       "      <td>(40.757379417, -73.834019371)</td>\n",
       "      <td>PATROL BORO QUEENS NORTH</td>\n",
       "      <td>NaN</td>\n",
       "      <td>NaN</td>\n",
       "      <td>UNKNOWN</td>\n",
       "      <td>D</td>\n",
       "    </tr>\n",
       "    <tr>\n",
       "      <th>4</th>\n",
       "      <td>513128671</td>\n",
       "      <td>8/31/13</td>\n",
       "      <td>11:00:00</td>\n",
       "      <td>8/31/13</td>\n",
       "      <td>11:40:00</td>\n",
       "      <td>104.0</td>\n",
       "      <td>9/3/13</td>\n",
       "      <td>110</td>\n",
       "      <td>GRAND LARCENY OF MOTOR VEHICLE</td>\n",
       "      <td>441</td>\n",
       "      <td>...</td>\n",
       "      <td>NaN</td>\n",
       "      <td>NaN</td>\n",
       "      <td>40.705698</td>\n",
       "      <td>-73.910103</td>\n",
       "      <td>(40.705697803, -73.910102913)</td>\n",
       "      <td>PATROL BORO QUEENS NORTH</td>\n",
       "      <td>NaN</td>\n",
       "      <td>45-64</td>\n",
       "      <td>WHITE HISPANIC</td>\n",
       "      <td>M</td>\n",
       "    </tr>\n",
       "  </tbody>\n",
       "</table>\n",
       "<p>5 rows × 35 columns</p>\n",
       "</div>"
      ],
      "text/plain": [
       "   CMPLNT_NUM CMPLNT_FR_DT CMPLNT_FR_TM CMPLNT_TO_DT CMPLNT_TO_TM  \\\n",
       "0   950495742      8/31/13     19:00:00       9/2/13      9:00:00   \n",
       "1   710053577      8/31/13     17:00:00       9/3/13      8:30:00   \n",
       "2   160768278      8/31/13     14:00:00          NaN          NaN   \n",
       "3   569477055      8/31/13     11:00:00          NaN          NaN   \n",
       "4   513128671      8/31/13     11:00:00      8/31/13     11:40:00   \n",
       "\n",
       "   ADDR_PCT_CD  RPT_DT  KY_CD                       OFNS_DESC  PD_CD   ...    \\\n",
       "0        106.0  9/3/13    110  GRAND LARCENY OF MOTOR VEHICLE    441   ...     \n",
       "1        108.0  9/3/13    351  CRIMINAL MISCHIEF & RELATED OF    258   ...     \n",
       "2        105.0  9/3/13    578                   HARRASSMENT 2    637   ...     \n",
       "3        109.0  9/3/13    341                   PETIT LARCENY    338   ...     \n",
       "4        104.0  9/3/13    110  GRAND LARCENY OF MOTOR VEHICLE    441   ...     \n",
       "\n",
       "  SUSP_SEX TRANSIT_DISTRICT   Latitude  Longitude  \\\n",
       "0      NaN              NaN  40.662512 -73.856311   \n",
       "1        U              NaN  40.746308 -73.915696   \n",
       "2        F              NaN  40.700129 -73.741587   \n",
       "3        F              NaN  40.757379 -73.834019   \n",
       "4      NaN              NaN  40.705698 -73.910103   \n",
       "\n",
       "                         Lat_Lon               PATROL_BORO STATION_NAME  \\\n",
       "0   (40.662511814, -73.85631094)  PATROL BORO QUEENS SOUTH          NaN   \n",
       "1  (40.746307995, -73.915696141)  PATROL BORO QUEENS NORTH          NaN   \n",
       "2  (40.700128956, -73.741587414)  PATROL BORO QUEENS SOUTH          NaN   \n",
       "3  (40.757379417, -73.834019371)  PATROL BORO QUEENS NORTH          NaN   \n",
       "4  (40.705697803, -73.910102913)  PATROL BORO QUEENS NORTH          NaN   \n",
       "\n",
       "   VIC_AGE_GROUP        VIC_RACE VIC_SEX  \n",
       "0          45-64  WHITE HISPANIC       F  \n",
       "1            65+           WHITE       M  \n",
       "2          25-44           BLACK       F  \n",
       "3            NaN         UNKNOWN       D  \n",
       "4          45-64  WHITE HISPANIC       M  \n",
       "\n",
       "[5 rows x 35 columns]"
      ]
     },
     "execution_count": 49,
     "metadata": {},
     "output_type": "execute_result"
    }
   ],
   "source": [
    "queens.head()"
   ]
  },
  {
   "cell_type": "code",
   "execution_count": 50,
   "metadata": {},
   "outputs": [
    {
     "data": {
      "text/plain": [
       "(1048575, 35)"
      ]
     },
     "execution_count": 50,
     "metadata": {},
     "output_type": "execute_result"
    }
   ],
   "source": [
    "queens.shape"
   ]
  },
  {
   "cell_type": "code",
   "execution_count": 51,
   "metadata": {},
   "outputs": [],
   "source": [
    "crimetype3 = queens[['CMPLNT_FR_DT','LAW_CAT_CD']]"
   ]
  },
  {
   "cell_type": "code",
   "execution_count": 52,
   "metadata": {},
   "outputs": [
    {
     "data": {
      "text/html": [
       "<div>\n",
       "<style scoped>\n",
       "    .dataframe tbody tr th:only-of-type {\n",
       "        vertical-align: middle;\n",
       "    }\n",
       "\n",
       "    .dataframe tbody tr th {\n",
       "        vertical-align: top;\n",
       "    }\n",
       "\n",
       "    .dataframe thead th {\n",
       "        text-align: right;\n",
       "    }\n",
       "</style>\n",
       "<table border=\"1\" class=\"dataframe\">\n",
       "  <thead>\n",
       "    <tr style=\"text-align: right;\">\n",
       "      <th></th>\n",
       "      <th>Date</th>\n",
       "      <th>Crime Type</th>\n",
       "    </tr>\n",
       "  </thead>\n",
       "  <tbody>\n",
       "    <tr>\n",
       "      <th>0</th>\n",
       "      <td>8/31/13</td>\n",
       "      <td>FELONY</td>\n",
       "    </tr>\n",
       "    <tr>\n",
       "      <th>1</th>\n",
       "      <td>8/31/13</td>\n",
       "      <td>MISDEMEANOR</td>\n",
       "    </tr>\n",
       "    <tr>\n",
       "      <th>2</th>\n",
       "      <td>8/31/13</td>\n",
       "      <td>VIOLATION</td>\n",
       "    </tr>\n",
       "    <tr>\n",
       "      <th>3</th>\n",
       "      <td>8/31/13</td>\n",
       "      <td>MISDEMEANOR</td>\n",
       "    </tr>\n",
       "    <tr>\n",
       "      <th>4</th>\n",
       "      <td>8/31/13</td>\n",
       "      <td>FELONY</td>\n",
       "    </tr>\n",
       "  </tbody>\n",
       "</table>\n",
       "</div>"
      ],
      "text/plain": [
       "      Date   Crime Type\n",
       "0  8/31/13       FELONY\n",
       "1  8/31/13  MISDEMEANOR\n",
       "2  8/31/13    VIOLATION\n",
       "3  8/31/13  MISDEMEANOR\n",
       "4  8/31/13       FELONY"
      ]
     },
     "execution_count": 52,
     "metadata": {},
     "output_type": "execute_result"
    }
   ],
   "source": [
    "crimetype3.columns= ['Date','Crime Type']\n",
    "crimetype3.head()"
   ]
  },
  {
   "cell_type": "code",
   "execution_count": 53,
   "metadata": {},
   "outputs": [
    {
     "data": {
      "text/plain": [
       "MISDEMEANOR    561931\n",
       "FELONY         348150\n",
       "VIOLATION      138494\n",
       "Name: Crime Type, dtype: int64"
      ]
     },
     "execution_count": 53,
     "metadata": {},
     "output_type": "execute_result"
    }
   ],
   "source": [
    "crimetype3['Crime Type'].value_counts()"
   ]
  },
  {
   "cell_type": "code",
   "execution_count": 83,
   "metadata": {},
   "outputs": [
    {
     "data": {
      "text/plain": [
       "Text(0.5,1,'Distribution of Reported Crime in Queens')"
      ]
     },
     "execution_count": 83,
     "metadata": {},
     "output_type": "execute_result"
    },
    {
     "data": {
      "image/png": "[encoded data removed]",
      "text/plain": [
       "<Figure size 432x288 with 1 Axes>"
      ]
     },
     "metadata": {},
     "output_type": "display_data"
    }
   ],
   "source": [
    "fig,ax0=plt.subplots()\n",
    "plt.rc('axes',titlesize=15,)\n",
    "crimetype3['Crime Type'].value_counts().plot(ax=ax0,kind='pie',shadow= True,startangle=90)\n",
    "ax0.axis('equal')\n",
    "ax0.set_title('Distribution of Reported Crime in Queens')"
   ]
  },
  {
   "cell_type": "code",
   "execution_count": 84,
   "metadata": {},
   "outputs": [
    {
     "name": "stderr",
     "output_type": "stream",
     "text": [
      "/Users/nuomin/anaconda3/lib/python3.6/site-packages/IPython/core/interactiveshell.py:2785: DtypeWarning: Columns (18) have mixed types. Specify dtype option on import or set low_memory=False.\n",
      "  interactivity=interactivity, compiler=compiler, result=result)\n"
     ]
    }
   ],
   "source": [
    "bronx = pd.read_csv('/Users/nuomin/Desktop/NYPD_Complaint_Bronx.csv')"
   ]
  },
  {
   "cell_type": "code",
   "execution_count": 85,
   "metadata": {},
   "outputs": [
    {
     "data": {
      "text/html": [
       "<div>\n",
       "<style scoped>\n",
       "    .dataframe tbody tr th:only-of-type {\n",
       "        vertical-align: middle;\n",
       "    }\n",
       "\n",
       "    .dataframe tbody tr th {\n",
       "        vertical-align: top;\n",
       "    }\n",
       "\n",
       "    .dataframe thead th {\n",
       "        text-align: right;\n",
       "    }\n",
       "</style>\n",
       "<table border=\"1\" class=\"dataframe\">\n",
       "  <thead>\n",
       "    <tr style=\"text-align: right;\">\n",
       "      <th></th>\n",
       "      <th>CMPLNT_NUM</th>\n",
       "      <th>CMPLNT_FR_DT</th>\n",
       "      <th>CMPLNT_FR_TM</th>\n",
       "      <th>CMPLNT_TO_DT</th>\n",
       "      <th>CMPLNT_TO_TM</th>\n",
       "      <th>ADDR_PCT_CD</th>\n",
       "      <th>RPT_DT</th>\n",
       "      <th>KY_CD</th>\n",
       "      <th>OFNS_DESC</th>\n",
       "      <th>PD_CD</th>\n",
       "      <th>...</th>\n",
       "      <th>SUSP_SEX</th>\n",
       "      <th>TRANSIT_DISTRICT</th>\n",
       "      <th>Latitude</th>\n",
       "      <th>Longitude</th>\n",
       "      <th>Lat_Lon</th>\n",
       "      <th>PATROL_BORO</th>\n",
       "      <th>STATION_NAME</th>\n",
       "      <th>VIC_AGE_GROUP</th>\n",
       "      <th>VIC_RACE</th>\n",
       "      <th>VIC_SEX</th>\n",
       "    </tr>\n",
       "  </thead>\n",
       "  <tbody>\n",
       "    <tr>\n",
       "      <th>0</th>\n",
       "      <td>827796420</td>\n",
       "      <td>8/31/13</td>\n",
       "      <td>19:45:00</td>\n",
       "      <td>8/31/13</td>\n",
       "      <td>20:00:00</td>\n",
       "      <td>40.0</td>\n",
       "      <td>9/3/13</td>\n",
       "      <td>359</td>\n",
       "      <td>OFFENSES AGAINST PUBLIC ADMINI</td>\n",
       "      <td>759</td>\n",
       "      <td>...</td>\n",
       "      <td>NaN</td>\n",
       "      <td>NaN</td>\n",
       "      <td>40.815606</td>\n",
       "      <td>-73.914579</td>\n",
       "      <td>(40.815606285, -73.914578735)</td>\n",
       "      <td>PATROL BORO BRONX</td>\n",
       "      <td>NaN</td>\n",
       "      <td>NaN</td>\n",
       "      <td>UNKNOWN</td>\n",
       "      <td>E</td>\n",
       "    </tr>\n",
       "    <tr>\n",
       "      <th>1</th>\n",
       "      <td>711199887</td>\n",
       "      <td>8/31/13</td>\n",
       "      <td>12:45:00</td>\n",
       "      <td>8/31/13</td>\n",
       "      <td>13:00:00</td>\n",
       "      <td>52.0</td>\n",
       "      <td>9/3/13</td>\n",
       "      <td>341</td>\n",
       "      <td>PETIT LARCENY</td>\n",
       "      <td>338</td>\n",
       "      <td>...</td>\n",
       "      <td>M</td>\n",
       "      <td>NaN</td>\n",
       "      <td>40.866035</td>\n",
       "      <td>-73.891935</td>\n",
       "      <td>(40.866035075, -73.891935417)</td>\n",
       "      <td>PATROL BORO BRONX</td>\n",
       "      <td>NaN</td>\n",
       "      <td>25-44</td>\n",
       "      <td>BLACK HISPANIC</td>\n",
       "      <td>F</td>\n",
       "    </tr>\n",
       "    <tr>\n",
       "      <th>2</th>\n",
       "      <td>759194401</td>\n",
       "      <td>8/31/13</td>\n",
       "      <td>12:00:00</td>\n",
       "      <td>9/3/13</td>\n",
       "      <td>8:30:00</td>\n",
       "      <td>49.0</td>\n",
       "      <td>9/3/13</td>\n",
       "      <td>341</td>\n",
       "      <td>PETIT LARCENY</td>\n",
       "      <td>357</td>\n",
       "      <td>...</td>\n",
       "      <td>NaN</td>\n",
       "      <td>NaN</td>\n",
       "      <td>40.856639</td>\n",
       "      <td>-73.867123</td>\n",
       "      <td>(40.856638756, -73.867123209)</td>\n",
       "      <td>PATROL BORO BRONX</td>\n",
       "      <td>NaN</td>\n",
       "      <td>45-64</td>\n",
       "      <td>BLACK</td>\n",
       "      <td>F</td>\n",
       "    </tr>\n",
       "    <tr>\n",
       "      <th>3</th>\n",
       "      <td>992799584</td>\n",
       "      <td>8/31/13</td>\n",
       "      <td>8:41:00</td>\n",
       "      <td>9/3/13</td>\n",
       "      <td>8:18:00</td>\n",
       "      <td>49.0</td>\n",
       "      <td>9/3/13</td>\n",
       "      <td>361</td>\n",
       "      <td>OFF. AGNST PUB ORD SENSBLTY &amp;</td>\n",
       "      <td>639</td>\n",
       "      <td>...</td>\n",
       "      <td>F</td>\n",
       "      <td>NaN</td>\n",
       "      <td>40.864337</td>\n",
       "      <td>-73.861605</td>\n",
       "      <td>(40.864336651, -73.861605236)</td>\n",
       "      <td>PATROL BORO BRONX</td>\n",
       "      <td>NaN</td>\n",
       "      <td>25-44</td>\n",
       "      <td>BLACK</td>\n",
       "      <td>F</td>\n",
       "    </tr>\n",
       "    <tr>\n",
       "      <th>4</th>\n",
       "      <td>947714941</td>\n",
       "      <td>8/30/13</td>\n",
       "      <td>23:00:00</td>\n",
       "      <td>NaN</td>\n",
       "      <td>NaN</td>\n",
       "      <td>40.0</td>\n",
       "      <td>9/3/13</td>\n",
       "      <td>344</td>\n",
       "      <td>ASSAULT 3 &amp; RELATED OFFENSES</td>\n",
       "      <td>101</td>\n",
       "      <td>...</td>\n",
       "      <td>F</td>\n",
       "      <td>NaN</td>\n",
       "      <td>40.814137</td>\n",
       "      <td>-73.909772</td>\n",
       "      <td>(40.814136943, -73.909772198)</td>\n",
       "      <td>PATROL BORO BRONX</td>\n",
       "      <td>NaN</td>\n",
       "      <td>45-64</td>\n",
       "      <td>WHITE HISPANIC</td>\n",
       "      <td>F</td>\n",
       "    </tr>\n",
       "  </tbody>\n",
       "</table>\n",
       "<p>5 rows × 35 columns</p>\n",
       "</div>"
      ],
      "text/plain": [
       "   CMPLNT_NUM CMPLNT_FR_DT CMPLNT_FR_TM CMPLNT_TO_DT CMPLNT_TO_TM  \\\n",
       "0   827796420      8/31/13     19:45:00      8/31/13     20:00:00   \n",
       "1   711199887      8/31/13     12:45:00      8/31/13     13:00:00   \n",
       "2   759194401      8/31/13     12:00:00       9/3/13      8:30:00   \n",
       "3   992799584      8/31/13      8:41:00       9/3/13      8:18:00   \n",
       "4   947714941      8/30/13     23:00:00          NaN          NaN   \n",
       "\n",
       "   ADDR_PCT_CD  RPT_DT  KY_CD                       OFNS_DESC  PD_CD   ...    \\\n",
       "0         40.0  9/3/13    359  OFFENSES AGAINST PUBLIC ADMINI    759   ...     \n",
       "1         52.0  9/3/13    341                   PETIT LARCENY    338   ...     \n",
       "2         49.0  9/3/13    341                   PETIT LARCENY    357   ...     \n",
       "3         49.0  9/3/13    361   OFF. AGNST PUB ORD SENSBLTY &    639   ...     \n",
       "4         40.0  9/3/13    344    ASSAULT 3 & RELATED OFFENSES    101   ...     \n",
       "\n",
       "  SUSP_SEX TRANSIT_DISTRICT   Latitude  Longitude  \\\n",
       "0      NaN              NaN  40.815606 -73.914579   \n",
       "1        M              NaN  40.866035 -73.891935   \n",
       "2      NaN              NaN  40.856639 -73.867123   \n",
       "3        F              NaN  40.864337 -73.861605   \n",
       "4        F              NaN  40.814137 -73.909772   \n",
       "\n",
       "                         Lat_Lon        PATROL_BORO STATION_NAME  \\\n",
       "0  (40.815606285, -73.914578735)  PATROL BORO BRONX          NaN   \n",
       "1  (40.866035075, -73.891935417)  PATROL BORO BRONX          NaN   \n",
       "2  (40.856638756, -73.867123209)  PATROL BORO BRONX          NaN   \n",
       "3  (40.864336651, -73.861605236)  PATROL BORO BRONX          NaN   \n",
       "4  (40.814136943, -73.909772198)  PATROL BORO BRONX          NaN   \n",
       "\n",
       "   VIC_AGE_GROUP        VIC_RACE VIC_SEX  \n",
       "0            NaN         UNKNOWN       E  \n",
       "1          25-44  BLACK HISPANIC       F  \n",
       "2          45-64           BLACK       F  \n",
       "3          25-44           BLACK       F  \n",
       "4          45-64  WHITE HISPANIC       F  \n",
       "\n",
       "[5 rows x 35 columns]"
      ]
     },
     "execution_count": 85,
     "metadata": {},
     "output_type": "execute_result"
    }
   ],
   "source": [
    "bronx.head()"
   ]
  },
  {
   "cell_type": "code",
   "execution_count": 87,
   "metadata": {},
   "outputs": [
    {
     "data": {
      "text/plain": [
       "(1048575, 35)"
      ]
     },
     "execution_count": 87,
     "metadata": {},
     "output_type": "execute_result"
    }
   ],
   "source": [
    "bronx.shape"
   ]
  },
  {
   "cell_type": "code",
   "execution_count": 93,
   "metadata": {},
   "outputs": [],
   "source": [
    "crimetype4 = bronx[['CMPLNT_FR_DT','LAW_CAT_CD']]"
   ]
  },
  {
   "cell_type": "code",
   "execution_count": 95,
   "metadata": {},
   "outputs": [
    {
     "data": {
      "text/html": [
       "<div>\n",
       "<style scoped>\n",
       "    .dataframe tbody tr th:only-of-type {\n",
       "        vertical-align: middle;\n",
       "    }\n",
       "\n",
       "    .dataframe tbody tr th {\n",
       "        vertical-align: top;\n",
       "    }\n",
       "\n",
       "    .dataframe thead th {\n",
       "        text-align: right;\n",
       "    }\n",
       "</style>\n",
       "<table border=\"1\" class=\"dataframe\">\n",
       "  <thead>\n",
       "    <tr style=\"text-align: right;\">\n",
       "      <th></th>\n",
       "      <th>Date</th>\n",
       "      <th>Crime Type</th>\n",
       "    </tr>\n",
       "  </thead>\n",
       "  <tbody>\n",
       "    <tr>\n",
       "      <th>0</th>\n",
       "      <td>8/31/13</td>\n",
       "      <td>MISDEMEANOR</td>\n",
       "    </tr>\n",
       "    <tr>\n",
       "      <th>1</th>\n",
       "      <td>8/31/13</td>\n",
       "      <td>MISDEMEANOR</td>\n",
       "    </tr>\n",
       "    <tr>\n",
       "      <th>2</th>\n",
       "      <td>8/31/13</td>\n",
       "      <td>MISDEMEANOR</td>\n",
       "    </tr>\n",
       "    <tr>\n",
       "      <th>3</th>\n",
       "      <td>8/31/13</td>\n",
       "      <td>MISDEMEANOR</td>\n",
       "    </tr>\n",
       "    <tr>\n",
       "      <th>4</th>\n",
       "      <td>8/30/13</td>\n",
       "      <td>MISDEMEANOR</td>\n",
       "    </tr>\n",
       "  </tbody>\n",
       "</table>\n",
       "</div>"
      ],
      "text/plain": [
       "      Date   Crime Type\n",
       "0  8/31/13  MISDEMEANOR\n",
       "1  8/31/13  MISDEMEANOR\n",
       "2  8/31/13  MISDEMEANOR\n",
       "3  8/31/13  MISDEMEANOR\n",
       "4  8/30/13  MISDEMEANOR"
      ]
     },
     "execution_count": 95,
     "metadata": {},
     "output_type": "execute_result"
    }
   ],
   "source": [
    "crimetype4.columns= ['Date','Crime Type']\n",
    "crimetype4.head()"
   ]
  },
  {
   "cell_type": "code",
   "execution_count": 96,
   "metadata": {},
   "outputs": [
    {
     "data": {
      "text/plain": [
       "MISDEMEANOR    561931\n",
       "FELONY         348150\n",
       "VIOLATION      138494\n",
       "Name: Crime Type, dtype: int64"
      ]
     },
     "execution_count": 96,
     "metadata": {},
     "output_type": "execute_result"
    }
   ],
   "source": [
    "crimetype3['Crime Type'].value_counts()"
   ]
  },
  {
   "cell_type": "code",
   "execution_count": 97,
   "metadata": {},
   "outputs": [
    {
     "data": {
      "text/plain": [
       "Text(0.5,1,'Distribution of Reported Crime in the Bronx')"
      ]
     },
     "execution_count": 97,
     "metadata": {},
     "output_type": "execute_result"
    },
    {
     "data": {
      "image/png": "[encoded data removed]",
      "text/plain": [
       "<Figure size 432x288 with 1 Axes>"
      ]
     },
     "metadata": {},
     "output_type": "display_data"
    }
   ],
   "source": [
    "fig,ax0=plt.subplots()\n",
    "plt.rc('axes',titlesize=15,)\n",
    "crimetype4['Crime Type'].value_counts().plot(ax=ax0,kind='pie',shadow= True,startangle=90)\n",
    "ax0.axis('equal')\n",
    "ax0.set_title('Distribution of Reported Crime in the Bronx')"
   ]
  },
  {
   "cell_type": "code",
   "execution_count": 108,
   "metadata": {},
   "outputs": [
    {
     "name": "stderr",
     "output_type": "stream",
     "text": [
      "/Users/nuomin/anaconda3/lib/python3.6/site-packages/IPython/core/interactiveshell.py:2785: DtypeWarning: Columns (18) have mixed types. Specify dtype option on import or set low_memory=False.\n",
      "  interactivity=interactivity, compiler=compiler, result=result)\n"
     ]
    }
   ],
   "source": [
    "si = pd.read_csv('/Users/nuomin/Desktop/NYPD_Complaint_Staten Island.csv')"
   ]
  },
  {
   "cell_type": "code",
   "execution_count": 109,
   "metadata": {},
   "outputs": [
    {
     "data": {
      "text/html": [
       "<div>\n",
       "<style scoped>\n",
       "    .dataframe tbody tr th:only-of-type {\n",
       "        vertical-align: middle;\n",
       "    }\n",
       "\n",
       "    .dataframe tbody tr th {\n",
       "        vertical-align: top;\n",
       "    }\n",
       "\n",
       "    .dataframe thead th {\n",
       "        text-align: right;\n",
       "    }\n",
       "</style>\n",
       "<table border=\"1\" class=\"dataframe\">\n",
       "  <thead>\n",
       "    <tr style=\"text-align: right;\">\n",
       "      <th></th>\n",
       "      <th>CMPLNT_NUM</th>\n",
       "      <th>CMPLNT_FR_DT</th>\n",
       "      <th>CMPLNT_FR_TM</th>\n",
       "      <th>CMPLNT_TO_DT</th>\n",
       "      <th>CMPLNT_TO_TM</th>\n",
       "      <th>ADDR_PCT_CD</th>\n",
       "      <th>RPT_DT</th>\n",
       "      <th>KY_CD</th>\n",
       "      <th>OFNS_DESC</th>\n",
       "      <th>PD_CD</th>\n",
       "      <th>...</th>\n",
       "      <th>SUSP_SEX</th>\n",
       "      <th>TRANSIT_DISTRICT</th>\n",
       "      <th>Latitude</th>\n",
       "      <th>Longitude</th>\n",
       "      <th>Lat_Lon</th>\n",
       "      <th>PATROL_BORO</th>\n",
       "      <th>STATION_NAME</th>\n",
       "      <th>VIC_AGE_GROUP</th>\n",
       "      <th>VIC_RACE</th>\n",
       "      <th>VIC_SEX</th>\n",
       "    </tr>\n",
       "  </thead>\n",
       "  <tbody>\n",
       "    <tr>\n",
       "      <th>0</th>\n",
       "      <td>766449786</td>\n",
       "      <td>8/31/13</td>\n",
       "      <td>17:00:00</td>\n",
       "      <td>8/31/13</td>\n",
       "      <td>17:10:00</td>\n",
       "      <td>120.0</td>\n",
       "      <td>9/3/13</td>\n",
       "      <td>578</td>\n",
       "      <td>HARRASSMENT 2</td>\n",
       "      <td>637</td>\n",
       "      <td>...</td>\n",
       "      <td>M</td>\n",
       "      <td>NaN</td>\n",
       "      <td>40.646466</td>\n",
       "      <td>-74.089298</td>\n",
       "      <td>(40.646465992, -74.089297652)</td>\n",
       "      <td>PATROL BORO STATEN ISLAND</td>\n",
       "      <td>NaN</td>\n",
       "      <td>25-44</td>\n",
       "      <td>WHITE HISPANIC</td>\n",
       "      <td>F</td>\n",
       "    </tr>\n",
       "    <tr>\n",
       "      <th>1</th>\n",
       "      <td>797919473</td>\n",
       "      <td>8/31/13</td>\n",
       "      <td>15:49:00</td>\n",
       "      <td>8/31/13</td>\n",
       "      <td>20:47:00</td>\n",
       "      <td>120.0</td>\n",
       "      <td>9/3/13</td>\n",
       "      <td>361</td>\n",
       "      <td>OFF. AGNST PUB ORD SENSBLTY &amp;</td>\n",
       "      <td>639</td>\n",
       "      <td>...</td>\n",
       "      <td>F</td>\n",
       "      <td>NaN</td>\n",
       "      <td>40.633107</td>\n",
       "      <td>-74.086448</td>\n",
       "      <td>(40.633106542, -74.086447943)</td>\n",
       "      <td>PATROL BORO STATEN ISLAND</td>\n",
       "      <td>NaN</td>\n",
       "      <td>25-44</td>\n",
       "      <td>BLACK HISPANIC</td>\n",
       "      <td>F</td>\n",
       "    </tr>\n",
       "    <tr>\n",
       "      <th>2</th>\n",
       "      <td>802772710</td>\n",
       "      <td>8/31/13</td>\n",
       "      <td>15:46:00</td>\n",
       "      <td>9/2/13</td>\n",
       "      <td>14:00:00</td>\n",
       "      <td>120.0</td>\n",
       "      <td>9/3/13</td>\n",
       "      <td>361</td>\n",
       "      <td>OFF. AGNST PUB ORD SENSBLTY &amp;</td>\n",
       "      <td>639</td>\n",
       "      <td>...</td>\n",
       "      <td>F</td>\n",
       "      <td>NaN</td>\n",
       "      <td>40.640054</td>\n",
       "      <td>-74.086122</td>\n",
       "      <td>(40.640053847, -74.086121846)</td>\n",
       "      <td>PATROL BORO STATEN ISLAND</td>\n",
       "      <td>NaN</td>\n",
       "      <td>25-44</td>\n",
       "      <td>WHITE HISPANIC</td>\n",
       "      <td>F</td>\n",
       "    </tr>\n",
       "    <tr>\n",
       "      <th>3</th>\n",
       "      <td>116040001</td>\n",
       "      <td>8/31/13</td>\n",
       "      <td>13:30:00</td>\n",
       "      <td>8/31/13</td>\n",
       "      <td>13:35:00</td>\n",
       "      <td>120.0</td>\n",
       "      <td>9/3/13</td>\n",
       "      <td>360</td>\n",
       "      <td>NaN</td>\n",
       "      <td>649</td>\n",
       "      <td>...</td>\n",
       "      <td>NaN</td>\n",
       "      <td>NaN</td>\n",
       "      <td>40.627827</td>\n",
       "      <td>-74.080612</td>\n",
       "      <td>(40.62782706, -74.080612172)</td>\n",
       "      <td>PATROL BORO STATEN ISLAND</td>\n",
       "      <td>NaN</td>\n",
       "      <td>NaN</td>\n",
       "      <td>UNKNOWN</td>\n",
       "      <td>E</td>\n",
       "    </tr>\n",
       "    <tr>\n",
       "      <th>4</th>\n",
       "      <td>980206851</td>\n",
       "      <td>8/31/13</td>\n",
       "      <td>8:00:00</td>\n",
       "      <td>NaN</td>\n",
       "      <td>NaN</td>\n",
       "      <td>120.0</td>\n",
       "      <td>9/3/13</td>\n",
       "      <td>111</td>\n",
       "      <td>POSSESSION OF STOLEN PROPERTY</td>\n",
       "      <td>494</td>\n",
       "      <td>...</td>\n",
       "      <td>M</td>\n",
       "      <td>NaN</td>\n",
       "      <td>40.635225</td>\n",
       "      <td>-74.106642</td>\n",
       "      <td>(40.635225033, -74.106641643)</td>\n",
       "      <td>PATROL BORO STATEN ISLAND</td>\n",
       "      <td>NaN</td>\n",
       "      <td>NaN</td>\n",
       "      <td>UNKNOWN</td>\n",
       "      <td>D</td>\n",
       "    </tr>\n",
       "  </tbody>\n",
       "</table>\n",
       "<p>5 rows × 35 columns</p>\n",
       "</div>"
      ],
      "text/plain": [
       "   CMPLNT_NUM CMPLNT_FR_DT CMPLNT_FR_TM CMPLNT_TO_DT CMPLNT_TO_TM  \\\n",
       "0   766449786      8/31/13     17:00:00      8/31/13     17:10:00   \n",
       "1   797919473      8/31/13     15:49:00      8/31/13     20:47:00   \n",
       "2   802772710      8/31/13     15:46:00       9/2/13     14:00:00   \n",
       "3   116040001      8/31/13     13:30:00      8/31/13     13:35:00   \n",
       "4   980206851      8/31/13      8:00:00          NaN          NaN   \n",
       "\n",
       "   ADDR_PCT_CD  RPT_DT  KY_CD                      OFNS_DESC  PD_CD   ...    \\\n",
       "0        120.0  9/3/13    578                  HARRASSMENT 2    637   ...     \n",
       "1        120.0  9/3/13    361  OFF. AGNST PUB ORD SENSBLTY &    639   ...     \n",
       "2        120.0  9/3/13    361  OFF. AGNST PUB ORD SENSBLTY &    639   ...     \n",
       "3        120.0  9/3/13    360                            NaN    649   ...     \n",
       "4        120.0  9/3/13    111  POSSESSION OF STOLEN PROPERTY    494   ...     \n",
       "\n",
       "  SUSP_SEX TRANSIT_DISTRICT   Latitude  Longitude  \\\n",
       "0        M              NaN  40.646466 -74.089298   \n",
       "1        F              NaN  40.633107 -74.086448   \n",
       "2        F              NaN  40.640054 -74.086122   \n",
       "3      NaN              NaN  40.627827 -74.080612   \n",
       "4        M              NaN  40.635225 -74.106642   \n",
       "\n",
       "                         Lat_Lon                PATROL_BORO STATION_NAME  \\\n",
       "0  (40.646465992, -74.089297652)  PATROL BORO STATEN ISLAND          NaN   \n",
       "1  (40.633106542, -74.086447943)  PATROL BORO STATEN ISLAND          NaN   \n",
       "2  (40.640053847, -74.086121846)  PATROL BORO STATEN ISLAND          NaN   \n",
       "3   (40.62782706, -74.080612172)  PATROL BORO STATEN ISLAND          NaN   \n",
       "4  (40.635225033, -74.106641643)  PATROL BORO STATEN ISLAND          NaN   \n",
       "\n",
       "   VIC_AGE_GROUP        VIC_RACE VIC_SEX  \n",
       "0          25-44  WHITE HISPANIC       F  \n",
       "1          25-44  BLACK HISPANIC       F  \n",
       "2          25-44  WHITE HISPANIC       F  \n",
       "3            NaN         UNKNOWN       E  \n",
       "4            NaN         UNKNOWN       D  \n",
       "\n",
       "[5 rows x 35 columns]"
      ]
     },
     "execution_count": 109,
     "metadata": {},
     "output_type": "execute_result"
    }
   ],
   "source": [
    "si.head()"
   ]
  },
  {
   "cell_type": "code",
   "execution_count": 110,
   "metadata": {},
   "outputs": [
    {
     "data": {
      "text/plain": [
       "(286135, 35)"
      ]
     },
     "execution_count": 110,
     "metadata": {},
     "output_type": "execute_result"
    }
   ],
   "source": [
    "si.shape"
   ]
  },
  {
   "cell_type": "code",
   "execution_count": 111,
   "metadata": {},
   "outputs": [],
   "source": [
    "crimetype5 = si[['CMPLNT_FR_DT','LAW_CAT_CD']]"
   ]
  },
  {
   "cell_type": "code",
   "execution_count": 112,
   "metadata": {},
   "outputs": [
    {
     "data": {
      "text/html": [
       "<div>\n",
       "<style scoped>\n",
       "    .dataframe tbody tr th:only-of-type {\n",
       "        vertical-align: middle;\n",
       "    }\n",
       "\n",
       "    .dataframe tbody tr th {\n",
       "        vertical-align: top;\n",
       "    }\n",
       "\n",
       "    .dataframe thead th {\n",
       "        text-align: right;\n",
       "    }\n",
       "</style>\n",
       "<table border=\"1\" class=\"dataframe\">\n",
       "  <thead>\n",
       "    <tr style=\"text-align: right;\">\n",
       "      <th></th>\n",
       "      <th>Date</th>\n",
       "      <th>Crime Type</th>\n",
       "    </tr>\n",
       "  </thead>\n",
       "  <tbody>\n",
       "    <tr>\n",
       "      <th>0</th>\n",
       "      <td>8/31/13</td>\n",
       "      <td>VIOLATION</td>\n",
       "    </tr>\n",
       "    <tr>\n",
       "      <th>1</th>\n",
       "      <td>8/31/13</td>\n",
       "      <td>MISDEMEANOR</td>\n",
       "    </tr>\n",
       "    <tr>\n",
       "      <th>2</th>\n",
       "      <td>8/31/13</td>\n",
       "      <td>MISDEMEANOR</td>\n",
       "    </tr>\n",
       "    <tr>\n",
       "      <th>3</th>\n",
       "      <td>8/31/13</td>\n",
       "      <td>MISDEMEANOR</td>\n",
       "    </tr>\n",
       "    <tr>\n",
       "      <th>4</th>\n",
       "      <td>8/31/13</td>\n",
       "      <td>FELONY</td>\n",
       "    </tr>\n",
       "  </tbody>\n",
       "</table>\n",
       "</div>"
      ],
      "text/plain": [
       "      Date   Crime Type\n",
       "0  8/31/13    VIOLATION\n",
       "1  8/31/13  MISDEMEANOR\n",
       "2  8/31/13  MISDEMEANOR\n",
       "3  8/31/13  MISDEMEANOR\n",
       "4  8/31/13       FELONY"
      ]
     },
     "execution_count": 112,
     "metadata": {},
     "output_type": "execute_result"
    }
   ],
   "source": [
    "crimetype5.columns= ['Date','Crime Type']\n",
    "crimetype5.head()"
   ]
  },
  {
   "cell_type": "code",
   "execution_count": 113,
   "metadata": {},
   "outputs": [
    {
     "data": {
      "text/plain": [
       "MISDEMEANOR    170158\n",
       "FELONY          61904\n",
       "VIOLATION       54073\n",
       "Name: Crime Type, dtype: int64"
      ]
     },
     "execution_count": 113,
     "metadata": {},
     "output_type": "execute_result"
    }
   ],
   "source": [
    "crimetype5['Crime Type'].value_counts()"
   ]
  },
  {
   "cell_type": "code",
   "execution_count": 114,
   "metadata": {},
   "outputs": [
    {
     "data": {
      "text/plain": [
       "Text(0.5,1,'Distribution of Reported Crime in Staten Island')"
      ]
     },
     "execution_count": 114,
     "metadata": {},
     "output_type": "execute_result"
    },
    {
     "data": {
      "image/png": "[encoded data removed]",
      "text/plain": [
       "<Figure size 432x288 with 1 Axes>"
      ]
     },
     "metadata": {},
     "output_type": "display_data"
    }
   ],
   "source": [
    "fig,ax0=plt.subplots()\n",
    "plt.rc('axes',titlesize=15,)\n",
    "crimetype5['Crime Type'].value_counts().plot(ax=ax0,kind='pie',shadow= True,startangle=90)\n",
    "ax0.axis('equal')\n",
    "ax0.set_title('Distribution of Reported Crime in Staten Island')"
   ]
  },
  {
   "cell_type": "code",
   "execution_count": null,
   "metadata": {},
   "outputs": [],
   "source": []
  }
 ],
 "metadata": {
  "kernelspec": {
   "display_name": "Python 3",
   "language": "python",
   "name": "python3"
  },
  "language_info": {
   "codemirror_mode": {
    "name": "ipython",
    "version": 3
   },
   "file_extension": ".py",
   "mimetype": "text/x-python",
   "name": "python",
   "nbconvert_exporter": "python",
   "pygments_lexer": "ipython3",
   "version": "3.6.5"
  }
 },
 "nbformat": 4,
 "nbformat_minor": 2
}
